{
 "cells": [
  {
   "cell_type": "code",
   "execution_count": 1,
   "metadata": {},
   "outputs": [],
   "source": [
    "import tensorflow as tf\n",
    "from keras import layers\n",
    "import numpy as np\n",
    "import matplotlib.pyplot as plt\n",
    "import pandas as pd\n",
    "from random import randint\n",
    "import os "
   ]
  },
  {
   "attachments": {},
   "cell_type": "markdown",
   "metadata": {},
   "source": [
    "# Downlaod and Save Resnet 50\n",
    "\n",
    "- To use Resnet50 trained on imagenet as a base for our model, we downloaded it from keras and saved the model and its weights."
   ]
  },
  {
   "cell_type": "code",
   "execution_count": 4,
   "metadata": {},
   "outputs": [],
   "source": [
    "# This was downloaded and saved already and is not necessary anymore\n",
    "save_resnet_50 = False\n",
    "\n",
    "if save_resnet_50:\n",
    "    resnet_50 = tf.keras.applications.resnet50.ResNet50(include_top=False, weights='imagenet')\n",
    "    resnet_50.save(\"./models/resnet50\")\n",
    "    resnet_50.save_weights(\"./models/resnet50/checkpoints/\")"
   ]
  },
  {
   "attachments": {},
   "cell_type": "markdown",
   "metadata": {},
   "source": [
    "# Preparing Image Augmentations\n",
    "\n",
    "- We created subclasses of the keras.layers class. This way we can use these augmentations as layers of our models during traing and also use them to prepare the augmented testdata.   "
   ]
  },
  {
   "cell_type": "code",
   "execution_count": 2,
   "metadata": {},
   "outputs": [],
   "source": [
    "class MotionBlur(tf.keras.layers.Layer):\n",
    "    def __init__(self, direction=\"horizontal\", **kwargs):\n",
    "        super(MotionBlur, self).__init__(**kwargs)\n",
    "        self.direction = direction\n",
    "        \n",
    "    def call(self, images, training=None):\n",
    "        if not training:\n",
    "            return images\n",
    "        strength = 20 \n",
    "        if self.direction == \"horizontal\":\n",
    "            kernel = np.zeros([3,strength]) \n",
    "            kernel[1] = 1/strength                                                                                                                                    \n",
    "        elif self.direction == \"vertical\":\n",
    "            kernel = np.zeros([strength,3]) \n",
    "            kernel[:,1] = 1/strength   \n",
    "        kernel_motion_blur = tf.convert_to_tensor(kernel, tf.float32)\n",
    "        kernel_motion_blur = tf.tile(kernel_motion_blur[..., None, None], [1,1,3,1])\n",
    "        images = tf.nn.depthwise_conv2d(images, kernel_motion_blur, strides=(1,1,1,1), padding='SAME')\n",
    "        return images"
   ]
  },
  {
   "attachments": {},
   "cell_type": "markdown",
   "metadata": {},
   "source": [
    "# Create Test Data\n",
    "\n",
    "- We used the Animal Image Classification Dataset from Kaggle. \n",
    "- After downloading the dataset, we selected the first 10% of images of each class and moved them to a folder exclusively used for testing. \n",
    "\n",
    "\n",
    "\n",
    "PIYUSHKUMAR.18. (n.d). Animal Image Classification Dataset, Version 1. Retrieved December 6 2022 from https://www.kaggle.com/datasets/piyushkumar18/animal-image-classification-dataset?datasetId=1112806"
   ]
  },
  {
   "attachments": {},
   "cell_type": "markdown",
   "metadata": {},
   "source": [
    "## Normal Test Data\n",
    "\n",
    "- This is how we selected the first 10% images of each category and moved them to a different folder"
   ]
  },
  {
   "cell_type": "code",
   "execution_count": 3,
   "metadata": {},
   "outputs": [],
   "source": [
    "# This code moved 10% of the images to a different folder and should not be run again\n",
    "seperate_test_data = False\n",
    "\n",
    "path = \"./data/train/Animal Image Dataset/\"\n",
    "\n",
    "if seperate_test_data:\n",
    "    d = []\n",
    "    for (dirpath, dirnames, filenames) in os.walk(path):\n",
    "        d.extend(dirnames)\n",
    "        break\n",
    "\n",
    "    for folder in d:\n",
    "        f = []\n",
    "        c_path = f\"{path}{folder}\"\n",
    "        for (dirpath, dirnames, filenames) in os.walk(c_path):\n",
    "            f.extend(filenames)\n",
    "            break\n",
    "        for ff in f[0:len(f)//10]:\n",
    "            #os.rename(f\"{path}{folder}/{ff}\", f\"./data/test/normal_test_data/{folder}/{ff}\") # this moves the files # this is commented out to reduce the risk of running this again \n",
    "            pass"
   ]
  },
  {
   "attachments": {},
   "cell_type": "markdown",
   "metadata": {},
   "source": [
    "## Augmented Test Data\n",
    "\n",
    "- The following code creates augmented versions of the test data in individual folders. "
   ]
  },
  {
   "cell_type": "code",
   "execution_count": null,
   "metadata": {},
   "outputs": [],
   "source": [
    "# define the augmentations\n",
    "augmentations = {\n",
    "    \"gblur\": {\"augmentation\": None, \"create\": False},\n",
    "    \"gnoise\": {\"augmentation\": None, \"create\": False},\n",
    "    \"mblur\": {\"augmentation\": MotionBlur, \"create\": False}, # Already Created\n",
    "    \"expo\": {\"augmentation\": None, \"create\": False},\n",
    "    \"jpgc\": {\"augmentation\": None, \"create\": False},\n",
    "    }\n",
    "\n",
    "for aug in augmentations:\n",
    "    folder_exists = os.path.exists(f\"./data/test/{aug}_test_data\")\n",
    "    if not folder_exists:\n",
    "        os.makedirs(f\"./data/test/{aug}_test_data\")"
   ]
  },
  {
   "cell_type": "code",
   "execution_count": 270,
   "metadata": {},
   "outputs": [],
   "source": [
    "path = \"./data/test/normal_test_data/\"\n",
    "\n",
    "d = []\n",
    "for (dirpath, dirnames, filenames) in os.walk(path):\n",
    "    d.extend(dirnames)\n",
    "    break\n",
    "\n",
    "for folder in d:\n",
    "    print(f\"> Creating augmented images for {folder}\")\n",
    "    f = []\n",
    "    c_path = f\"{path}{folder}\"\n",
    "    for (dirpath, dirnames, filenames) in os.walk(c_path):\n",
    "        f.extend(filenames)\n",
    "        break\n",
    "    for ff in f:\n",
    "        img = tf.keras.utils.load_img(f\"{c_path}/{ff}\")\n",
    "        input_arr = tf.keras.utils.img_to_array(img)\n",
    "        input_arr = np.array([input_arr])\n",
    "        for aug in augmentations:\n",
    "            if augmentations[aug][\"create\"]:\n",
    "                folder_exists = os.path.exists(f\"./data/test/{aug}_test_data/{folder}\")\n",
    "                if not folder_exists:\n",
    "                    os.makedirs(f\"./data/test/{aug}_test_data/{folder}\")\n",
    "                aug_layer = augmentations[aug][\"augmentation\"]()\n",
    "                img_aug = aug_layer(input_arr, training=True)\n",
    "                tf.keras.utils.save_img(f\"./data/test/{aug}_test_data/{folder}/{aug}_{ff}\", img_aug[0].numpy())"
   ]
  },
  {
   "attachments": {},
   "cell_type": "markdown",
   "metadata": {},
   "source": [
    "# Create Basic Model Template \n",
    "\n",
    "Basic Process\n",
    "- We first trained the most basic model (i.e., resnet + flatten + dense[12]). \n",
    "- Afterwards we developed a more complex model architecture (i.e., resnet + maxpool2d + dropout + dense[24] + dense[12]) and compared its training statistics - train accuracy, train loss, validation accuracy, validation loss - with those from the most basic model.  \n",
    "- The more complex model outperformed the basic model aand we used it as our base for tuning. \n",
    "- During tuning we systematically added additional architectural facets or varied existing hyperparameters, trained the new model, compared it with the previous model and repeated this process with the better performing model. \n",
    "- Because we want to investigate the generalizability of networks we focused on reducing overfit by trying to minimize validation loss. But we also considered accuracy and training time for making the final decision.\n",
    "\n",
    "Detailed Tuning Process\n",
    "- First, we added early stopping to the model. Initially we used a patience of 2 and min delta of .001 because we saw in earlier training cycles without early stopping that validation loss appeared to increase within a short time. \n",
    "- Second, we added an adaptive learning rate to the model. Specifically, we reduce the learning rate by 10% every epoch.  \n",
    "- After adding adaptive learning, we retuned the early stoppping parameters and ended up using a patience of 5 and a min delta of .0001 because together with the adaptive learning rate the model tended to find more optimal solutions after a couple of epochs. \n",
    "- Third, we took out the maxpool2d layer, which we originally included to reduce the number of trainable parameters and thus reduce training time. Taking it out lead to greatly increased performance ata a cost of longer training time. But as training time was still within reason (~10min), we left it in. \n",
    "- Fourth, we took out the first dense layer, which lead to worse performance. Then we reduced the number of units in this layer from 24 to 12, which lead to a big improvement in validation loss. \n",
    "- Fifth, we increased dropout in the first dense layer from 30% to 50%, which further reduced validation loss.\n",
    "- Sixth, added L1 and L2 regularization with standard values to the weigths of the first dense layer, which reduced validation loss slightly. \n",
    "- Seventh, we realized that the gpu was only running at 4% and increased the batch-size used during training from 32 to 320. The gpu was still only using about 6% of its capacity, but this lead to the 16gb RAM maxing out before training could be completed. Nontheless even incomplete training produced very large improvements in validation loss. Thus we reduced the batch size to 250, which is still managable by the 16gb of RAM and lead to very good training accuracy (0.9973), training loss (0.0664), validation accuracy (0.9153) and acceptable validation loss (0.9033) after 24 training epochs taking about 6 minutes. \n",
    "\n",
    "Initial Testing\n",
    "- We tested the performance of this model on the test set and it achieved 90.38% accuracy with a loss of 1.0712.\n",
    "- We concluded that this is satisfactory and decided to use this model architecture for our exploratory study of generizability.   "
   ]
  },
  {
   "attachments": {},
   "cell_type": "markdown",
   "metadata": {},
   "source": [
    "## Load Resnet50 as Base\n",
    "\n",
    "- From now on we load the Resnet50 and its weights from our own folder and not from keras. Resnet serves as the base for our model and is set to non-trainable. "
   ]
  },
  {
   "cell_type": "code",
   "execution_count": 3,
   "metadata": {},
   "outputs": [
    {
     "name": "stdout",
     "output_type": "stream",
     "text": [
      "WARNING:tensorflow:No training configuration found in save file, so the model was *not* compiled. Compile it manually.\n"
     ]
    }
   ],
   "source": [
    "resnet_50 = tf.keras.models.load_model(\"./models/resnet50\")\n",
    "resnet_50.load_weights(\"./models/resnet50/checkpoints/\")\n",
    "resnet_50.trainable = False # freeze layers"
   ]
  },
  {
   "attachments": {},
   "cell_type": "markdown",
   "metadata": {},
   "source": [
    "## Early Stopping and Adaptive Learning\n",
    "\n",
    "We implemented early stopping and adaptive learning as callbacks. Adaptive learning would reduce the learning rate used by the ADAM optimizer by 10% every eopoch starting from the default learning rate of 0.001."
   ]
  },
  {
   "cell_type": "code",
   "execution_count": 20,
   "metadata": {},
   "outputs": [],
   "source": [
    "# early stopping and adaptive learning are implemented as callbacks\n",
    "early_stopping = tf.keras.callbacks.EarlyStopping(\n",
    "    patience = 10,\n",
    "    min_delta = .0001,\n",
    "    restore_best_weights=True\n",
    ")\n",
    "\n",
    "def scheduler(epoch, lr):\n",
    "    if epoch == 0:\n",
    "        return lr\n",
    "    else:\n",
    "        return lr*tf.math.exp(-0.1)\n",
    "adaptive_learning = tf.keras.callbacks.LearningRateScheduler(scheduler)"
   ]
  },
  {
   "attachments": {},
   "cell_type": "markdown",
   "metadata": {},
   "source": [
    "## High Level Overview of the Model Development\n",
    "\n",
    "- Below you can see the basic model and more complicated model before tuning, and the final model after tuning. This is not meant to be executed. \n",
    "- The final version is compiled using the ADAM optimizer with default parameters. We use sparse-categorical-crossentropy to calculate loss according to the softmax classification in the final layer.  "
   ]
  },
  {
   "cell_type": "code",
   "execution_count": 15,
   "metadata": {},
   "outputs": [
    {
     "name": "stdout",
     "output_type": "stream",
     "text": [
      "Model: \"sequential_2\"\n",
      "_________________________________________________________________\n",
      " Layer (type)                Output Shape              Param #   \n",
      "=================================================================\n",
      " resnet50 (Functional)       (None, None, None, 2048)  23587712  \n",
      "                                                                 \n",
      " flatten_1 (Flatten)         (None, 51200)             0         \n",
      "                                                                 \n",
      " dropout_1 (Dropout)         (None, 51200)             0         \n",
      "                                                                 \n",
      " dense_3 (Dense)             (None, 12)                614412    \n",
      "                                                                 \n",
      " dense_4 (Dense)             (None, 12)                156       \n",
      "                                                                 \n",
      "=================================================================\n",
      "Total params: 24,202,280\n",
      "Trainable params: 614,568\n",
      "Non-trainable params: 23,587,712\n",
      "_________________________________________________________________\n"
     ]
    }
   ],
   "source": [
    "run_this_for_some_reason = False\n",
    "\n",
    "if run_this_for_some_reason:\n",
    "    # Basic Model - This was our baseline before the more complicated model\n",
    "    model = tf.keras.Sequential([\n",
    "        layers.InputLayer(input_shape=(150, 150, 3)),\n",
    "        resnet_50,\n",
    "        layers.Dense(12, activation=\"softmax\")\n",
    "    ])\n",
    "\n",
    "    # More Complicated Model - This was our baseline for tuning\n",
    "    model = tf.keras.Sequential([\n",
    "        layers.InputLayer(input_shape=(150, 150, 3)),\n",
    "        resnet_50,\n",
    "        layers.MaxPool2D(pool_size=3, strides=1, padding='valid'),\n",
    "        layers.Flatten(),\n",
    "        layers.Dropout(0.3),\n",
    "        layers.Dense(24),\n",
    "        layers.Dense(12, activation=\"softmax\")\n",
    "    ])\n",
    "\n",
    "    # Final Model - This is the final result after tuning\n",
    "    model = tf.keras.Sequential([\n",
    "        layers.InputLayer(input_shape=(150, 150, 3)),\n",
    "        resnet_50,\n",
    "        layers.Flatten(),\n",
    "        layers.Dropout(0.5), \n",
    "        layers.Dense(12, kernel_regularizer=tf.keras.regularizers.L1L2(l1=1e-5, l2=1e-4)), \n",
    "        layers.Dense(12, activation=\"softmax\")\n",
    "    ])\n",
    "\n",
    "    model.compile(optimizer=\"adam\",\n",
    "                loss=tf.keras.losses.SparseCategoricalCrossentropy(),\n",
    "                metrics=[\"accuracy\"])\n",
    "    model.summary()"
   ]
  },
  {
   "attachments": {},
   "cell_type": "markdown",
   "metadata": {},
   "source": [
    "## Save the Final Model\n",
    "\n",
    "- We want to use the final model architecture for our future testing and saved it so we can consistently load it in the future."
   ]
  },
  {
   "cell_type": "code",
   "execution_count": 16,
   "metadata": {},
   "outputs": [
    {
     "name": "stderr",
     "output_type": "stream",
     "text": [
      "WARNING:absl:Found untraced functions such as _jit_compiled_convolution_op, _jit_compiled_convolution_op, _jit_compiled_convolution_op, _jit_compiled_convolution_op, _jit_compiled_convolution_op while saving (showing 5 of 53). These functions will not be directly callable after loading.\n"
     ]
    },
    {
     "name": "stdout",
     "output_type": "stream",
     "text": [
      "INFO:tensorflow:Assets written to: ./models/base_model_template\\assets\n"
     ]
    },
    {
     "name": "stderr",
     "output_type": "stream",
     "text": [
      "INFO:tensorflow:Assets written to: ./models/base_model_template\\assets\n",
      "WARNING:absl:Found untraced functions such as _jit_compiled_convolution_op, _jit_compiled_convolution_op, _jit_compiled_convolution_op, _jit_compiled_convolution_op, _jit_compiled_convolution_op while saving (showing 5 of 53). These functions will not be directly callable after loading.\n"
     ]
    },
    {
     "name": "stdout",
     "output_type": "stream",
     "text": [
      "INFO:tensorflow:Assets written to: ./models/base_model_template/checkpoints/assets\n"
     ]
    },
    {
     "name": "stderr",
     "output_type": "stream",
     "text": [
      "INFO:tensorflow:Assets written to: ./models/base_model_template/checkpoints/assets\n"
     ]
    }
   ],
   "source": [
    "# This does not need to happen again\n",
    "save_model_template = False\n",
    "\n",
    "if save_model_template: \n",
    "    model.save(\"./models/base_model_template\")\n",
    "    model.save(\"./models/base_model_template/checkpoints/\")"
   ]
  },
  {
   "attachments": {},
   "cell_type": "markdown",
   "metadata": {},
   "source": [
    "# Train Models\n",
    "\n",
    "- We trained six different models on different versions of the dataset (normal, gaussian blur, moption blur, bad exposure, jpg compression, gausian noise)."
   ]
  },
  {
   "cell_type": "code",
   "execution_count": 4,
   "metadata": {},
   "outputs": [
    {
     "name": "stdout",
     "output_type": "stream",
     "text": [
      "Num GPUs Available:  1\n"
     ]
    }
   ],
   "source": [
    "# verify gpu is available\n",
    "print(\"Num GPUs Available: \", len(tf.config.list_physical_devices('GPU')))"
   ]
  },
  {
   "attachments": {},
   "cell_type": "markdown",
   "metadata": {},
   "source": [
    "## Prepare Training Data\n",
    "\n",
    "- We load the images with a 150x150 size because REASON\n",
    "- As indicated before, we use a batch size of 250 because it is large enough to produce good results, but small enought that the RAM can handle it.\n",
    "- We use 20% of the data for validation. \n",
    "- To improve reproducability we use a seed in the data pipeline. "
   ]
  },
  {
   "attachments": {},
   "cell_type": "markdown",
   "metadata": {},
   "source": [
    "### Load Data\n",
    "\n",
    "- We considered normalizing the pixel values between 0 and 1 but this greately reduced performance and we decided against it."
   ]
  },
  {
   "cell_type": "code",
   "execution_count": 5,
   "metadata": {},
   "outputs": [
    {
     "name": "stdout",
     "output_type": "stream",
     "text": [
      "Found 15462 files belonging to 12 classes.\n",
      "Using 12370 files for training.\n",
      "Found 15462 files belonging to 12 classes.\n",
      "Using 3092 files for validation.\n"
     ]
    }
   ],
   "source": [
    "data_dir = \"./data/train/normal_train_data\"\n",
    "image_height = 150\n",
    "image_width = 150\n",
    "batch_size = 250 # RAM can handle this and it leads to good results\n",
    "\n",
    "train_ds = tf.keras.utils.image_dataset_from_directory(\n",
    "  data_dir,\n",
    "  validation_split=0.2,\n",
    "  subset=\"training\",\n",
    "  seed=123,\n",
    "  image_size=(image_height, image_width),\n",
    "  batch_size=batch_size\n",
    "  )\n",
    "\n",
    "val_ds = tf.keras.utils.image_dataset_from_directory(\n",
    "  data_dir,\n",
    "  validation_split=0.2,\n",
    "  subset=\"validation\",\n",
    "  seed=123,\n",
    "  image_size=(image_height, image_width),\n",
    "  batch_size=batch_size\n",
    "  )\n",
    "\n",
    "\n",
    "# Cache Buffer\n",
    "AUTOTUNE = tf.data.AUTOTUNE\n",
    "train_ds = train_ds.cache().prefetch(buffer_size=AUTOTUNE)\n",
    "val_ds = val_ds.cache().prefetch(buffer_size=AUTOTUNE)"
   ]
  },
  {
   "attachments": {},
   "cell_type": "markdown",
   "metadata": {},
   "source": [
    "## Train Models\n"
   ]
  },
  {
   "cell_type": "code",
   "execution_count": 9,
   "metadata": {},
   "outputs": [],
   "source": [
    "def create_and_compile_model(augmentation):\n",
    "    if augmentation == None:\n",
    "        model = tf.keras.Sequential([\n",
    "            layers.InputLayer(input_shape=(150, 150, 3)),\n",
    "            resnet_50,\n",
    "            layers.Flatten(),\n",
    "            layers.Dropout(0.5), \n",
    "            layers.Dense(12, kernel_regularizer=tf.keras.regularizers.L1L2(l1=1e-5, l2=1e-4)), \n",
    "            layers.Dense(12, activation=\"softmax\")\n",
    "        ])\n",
    "    else:\n",
    "        model = tf.keras.Sequential([\n",
    "            layers.InputLayer(input_shape=(150, 150, 3)),\n",
    "            augmentation(),\n",
    "            resnet_50,\n",
    "            layers.Flatten(),\n",
    "            layers.Dropout(0.5), \n",
    "            layers.Dense(12, kernel_regularizer=tf.keras.regularizers.L1L2(l1=1e-5, l2=1e-4)), \n",
    "            layers.Dense(12, activation=\"softmax\")\n",
    "        ])\n",
    "    model.compile(\n",
    "        optimizer=\"adam\", \n",
    "        loss=tf.keras.losses.SparseCategoricalCrossentropy(),\n",
    "        metrics=[\"accuracy\"]\n",
    "        )\n",
    "    return model"
   ]
  },
  {
   "cell_type": "code",
   "execution_count": 21,
   "metadata": {},
   "outputs": [],
   "source": [
    "# dict specifying model name, augmentation function and if it should be saved after training\n",
    "models = {\n",
    "  \"normal_model\": {\"augmentation\": None, \"train\": True, \"save\": True, \"test\":True, \"model\": None, \"history\": None}, \n",
    "  \"gblur_model\": {\"augmentation\": None, \"train\": False, \"save\": False, \"test\":False, \"model\": None, \"history\": None}, \n",
    "  \"gnoise_model\": {\"augmentation\": None, \"train\": False, \"save\": False, \"test\":False, \"model\": None, \"history\": None},\n",
    "  \"mblur_model\": {\"augmentation\": MotionBlur, \"train\": True, \"save\": True, \"test\":True, \"model\": None, \"history\": None},\n",
    "  \"expo_model\": {\"augmentation\": None, \"train\": False, \"save\": False, \"test\":False, \"model\": None, \"history\": None}, \n",
    "  \"jpgc_model\": {\"augmentation\": None, \"train\": False, \"save\": False, \"test\":False, \"model\": None, \"history\": None},\n",
    "  }"
   ]
  },
  {
   "cell_type": "code",
   "execution_count": 22,
   "metadata": {},
   "outputs": [
    {
     "name": "stdout",
     "output_type": "stream",
     "text": [
      "> Processing normal_model\n",
      "> Cloning and compiling model\n",
      "Model: \"normal_model\"\n",
      "_________________________________________________________________\n",
      " Layer (type)                Output Shape              Param #   \n",
      "=================================================================\n",
      " resnet50 (Functional)       (None, None, None, 2048)  23587712  \n",
      "                                                                 \n",
      " flatten_13 (Flatten)        (None, 51200)             0         \n",
      "                                                                 \n",
      " dropout_13 (Dropout)        (None, 51200)             0         \n",
      "                                                                 \n",
      " dense_26 (Dense)            (None, 12)                614412    \n",
      "                                                                 \n",
      " dense_27 (Dense)            (None, 12)                156       \n",
      "                                                                 \n",
      "=================================================================\n",
      "Total params: 24,202,280\n",
      "Trainable params: 614,568\n",
      "Non-trainable params: 23,587,712\n",
      "_________________________________________________________________\n",
      "> Training model\n",
      "Epoch 1/300\n",
      "50/50 [==============================] - 21s 371ms/step - loss: 5.8677 - accuracy: 0.6572 - val_loss: 1.4698 - val_accuracy: 0.8765 - lr: 0.0010\n",
      "Epoch 2/300\n",
      "50/50 [==============================] - 17s 346ms/step - loss: 0.9031 - accuracy: 0.9019 - val_loss: 1.1431 - val_accuracy: 0.8832 - lr: 9.0484e-04\n",
      "Epoch 3/300\n",
      "50/50 [==============================] - 17s 342ms/step - loss: 0.4976 - accuracy: 0.9298 - val_loss: 1.4247 - val_accuracy: 0.8632 - lr: 8.1873e-04\n",
      "Epoch 4/300\n",
      "50/50 [==============================] - 17s 342ms/step - loss: 0.3824 - accuracy: 0.9426 - val_loss: 1.2167 - val_accuracy: 0.8787 - lr: 7.4082e-04\n",
      "Epoch 5/300\n",
      "50/50 [==============================] - 17s 345ms/step - loss: 0.2672 - accuracy: 0.9596 - val_loss: 1.0703 - val_accuracy: 0.8965 - lr: 6.7032e-04\n",
      "Epoch 6/300\n",
      "50/50 [==============================] - 17s 342ms/step - loss: 0.1656 - accuracy: 0.9730 - val_loss: 1.0730 - val_accuracy: 0.8910 - lr: 6.0653e-04\n",
      "Epoch 7/300\n",
      "50/50 [==============================] - 17s 342ms/step - loss: 0.1635 - accuracy: 0.9764 - val_loss: 1.0864 - val_accuracy: 0.9010 - lr: 5.4881e-04\n",
      "Epoch 8/300\n",
      "50/50 [==============================] - 17s 342ms/step - loss: 0.1271 - accuracy: 0.9827 - val_loss: 1.2052 - val_accuracy: 0.8913 - lr: 4.9659e-04\n",
      "Epoch 9/300\n",
      "50/50 [==============================] - 17s 345ms/step - loss: 0.1222 - accuracy: 0.9834 - val_loss: 1.0483 - val_accuracy: 0.9007 - lr: 4.4933e-04\n",
      "Epoch 10/300\n",
      "50/50 [==============================] - 17s 345ms/step - loss: 0.1018 - accuracy: 0.9872 - val_loss: 1.0406 - val_accuracy: 0.8991 - lr: 4.0657e-04\n",
      "Epoch 11/300\n",
      "50/50 [==============================] - 17s 342ms/step - loss: 0.0885 - accuracy: 0.9901 - val_loss: 1.0416 - val_accuracy: 0.9017 - lr: 3.6788e-04\n",
      "Epoch 12/300\n",
      "50/50 [==============================] - 17s 343ms/step - loss: 0.0913 - accuracy: 0.9897 - val_loss: 1.0686 - val_accuracy: 0.9001 - lr: 3.3287e-04\n",
      "Epoch 13/300\n",
      "50/50 [==============================] - 17s 346ms/step - loss: 0.0827 - accuracy: 0.9912 - val_loss: 1.0251 - val_accuracy: 0.9017 - lr: 3.0119e-04\n",
      "Epoch 14/300\n",
      "50/50 [==============================] - 17s 343ms/step - loss: 0.0805 - accuracy: 0.9925 - val_loss: 1.0353 - val_accuracy: 0.9033 - lr: 2.7253e-04\n",
      "Epoch 15/300\n",
      "50/50 [==============================] - 17s 343ms/step - loss: 0.0849 - accuracy: 0.9920 - val_loss: 1.0551 - val_accuracy: 0.9036 - lr: 2.4660e-04\n",
      "Epoch 16/300\n",
      "50/50 [==============================] - 17s 343ms/step - loss: 0.0772 - accuracy: 0.9942 - val_loss: 1.0384 - val_accuracy: 0.9036 - lr: 2.2313e-04\n",
      "Epoch 17/300\n",
      "50/50 [==============================] - 17s 345ms/step - loss: 0.0724 - accuracy: 0.9947 - val_loss: 1.0233 - val_accuracy: 0.9036 - lr: 2.0190e-04\n",
      "Epoch 18/300\n",
      "50/50 [==============================] - 17s 342ms/step - loss: 0.0716 - accuracy: 0.9942 - val_loss: 1.0513 - val_accuracy: 0.9017 - lr: 1.8268e-04\n",
      "Epoch 19/300\n",
      "50/50 [==============================] - 17s 349ms/step - loss: 0.0693 - accuracy: 0.9958 - val_loss: 1.0259 - val_accuracy: 0.9065 - lr: 1.6530e-04\n",
      "Epoch 20/300\n",
      "50/50 [==============================] - 17s 343ms/step - loss: 0.0707 - accuracy: 0.9955 - val_loss: 1.0440 - val_accuracy: 0.9030 - lr: 1.4957e-04\n",
      "Epoch 21/300\n",
      "50/50 [==============================] - 17s 345ms/step - loss: 0.0662 - accuracy: 0.9960 - val_loss: 1.0028 - val_accuracy: 0.9043 - lr: 1.3534e-04\n",
      "Epoch 22/300\n",
      "50/50 [==============================] - 17s 345ms/step - loss: 0.0636 - accuracy: 0.9973 - val_loss: 0.9830 - val_accuracy: 0.9075 - lr: 1.2246e-04\n",
      "Epoch 23/300\n",
      "50/50 [==============================] - 17s 342ms/step - loss: 0.0659 - accuracy: 0.9965 - val_loss: 0.9974 - val_accuracy: 0.9078 - lr: 1.1080e-04\n",
      "Epoch 24/300\n",
      "50/50 [==============================] - 17s 342ms/step - loss: 0.0646 - accuracy: 0.9966 - val_loss: 0.9863 - val_accuracy: 0.9075 - lr: 1.0026e-04\n",
      "Epoch 25/300\n",
      "50/50 [==============================] - 17s 345ms/step - loss: 0.0644 - accuracy: 0.9970 - val_loss: 1.0037 - val_accuracy: 0.9078 - lr: 9.0718e-05\n",
      "Epoch 26/300\n",
      "50/50 [==============================] - 17s 344ms/step - loss: 0.0629 - accuracy: 0.9973 - val_loss: 0.9945 - val_accuracy: 0.9085 - lr: 8.2085e-05\n",
      "Epoch 27/300\n",
      "50/50 [==============================] - 17s 344ms/step - loss: 0.0637 - accuracy: 0.9969 - val_loss: 0.9830 - val_accuracy: 0.9078 - lr: 7.4274e-05\n",
      "Epoch 28/300\n",
      "50/50 [==============================] - 17s 343ms/step - loss: 0.0608 - accuracy: 0.9977 - val_loss: 1.0031 - val_accuracy: 0.9072 - lr: 6.7206e-05\n",
      "Epoch 29/300\n",
      "50/50 [==============================] - 17s 344ms/step - loss: 0.0616 - accuracy: 0.9977 - val_loss: 0.9858 - val_accuracy: 0.9085 - lr: 6.0810e-05\n",
      "Epoch 30/300\n",
      "50/50 [==============================] - 17s 346ms/step - loss: 0.0621 - accuracy: 0.9973 - val_loss: 0.9825 - val_accuracy: 0.9088 - lr: 5.5023e-05\n",
      "Epoch 31/300\n",
      "50/50 [==============================] - 17s 343ms/step - loss: 0.0598 - accuracy: 0.9977 - val_loss: 0.9970 - val_accuracy: 0.9085 - lr: 4.9787e-05\n",
      "Epoch 32/300\n",
      "50/50 [==============================] - 17s 343ms/step - loss: 0.0587 - accuracy: 0.9986 - val_loss: 0.9896 - val_accuracy: 0.9085 - lr: 4.5049e-05\n",
      "Epoch 33/300\n",
      "50/50 [==============================] - 17s 346ms/step - loss: 0.0604 - accuracy: 0.9975 - val_loss: 0.9801 - val_accuracy: 0.9085 - lr: 4.0762e-05\n",
      "Epoch 34/300\n",
      "50/50 [==============================] - 17s 343ms/step - loss: 0.0592 - accuracy: 0.9979 - val_loss: 0.9801 - val_accuracy: 0.9078 - lr: 3.6883e-05\n",
      "Epoch 35/300\n",
      "50/50 [==============================] - 17s 346ms/step - loss: 0.0600 - accuracy: 0.9977 - val_loss: 0.9709 - val_accuracy: 0.9088 - lr: 3.3373e-05\n",
      "Epoch 36/300\n",
      "50/50 [==============================] - 17s 344ms/step - loss: 0.0601 - accuracy: 0.9977 - val_loss: 0.9884 - val_accuracy: 0.9088 - lr: 3.0197e-05\n",
      "Epoch 37/300\n",
      "50/50 [==============================] - 17s 343ms/step - loss: 0.0603 - accuracy: 0.9979 - val_loss: 0.9849 - val_accuracy: 0.9091 - lr: 2.7324e-05\n",
      "Epoch 38/300\n",
      "50/50 [==============================] - 17s 344ms/step - loss: 0.0603 - accuracy: 0.9977 - val_loss: 0.9724 - val_accuracy: 0.9091 - lr: 2.4724e-05\n",
      "Epoch 39/300\n",
      "50/50 [==============================] - 17s 348ms/step - loss: 0.0605 - accuracy: 0.9969 - val_loss: 0.9654 - val_accuracy: 0.9091 - lr: 2.2371e-05\n",
      "Epoch 40/300\n",
      "50/50 [==============================] - 17s 344ms/step - loss: 0.0598 - accuracy: 0.9981 - val_loss: 0.9695 - val_accuracy: 0.9094 - lr: 2.0242e-05\n",
      "Epoch 41/300\n",
      "50/50 [==============================] - 17s 343ms/step - loss: 0.0623 - accuracy: 0.9979 - val_loss: 0.9701 - val_accuracy: 0.9088 - lr: 1.8316e-05\n",
      "Epoch 42/300\n",
      "50/50 [==============================] - 17s 343ms/step - loss: 0.0576 - accuracy: 0.9982 - val_loss: 0.9763 - val_accuracy: 0.9085 - lr: 1.6573e-05\n",
      "Epoch 43/300\n",
      "50/50 [==============================] - 17s 349ms/step - loss: 0.0595 - accuracy: 0.9979 - val_loss: 0.9771 - val_accuracy: 0.9078 - lr: 1.4996e-05\n",
      "Epoch 44/300\n",
      "50/50 [==============================] - 17s 342ms/step - loss: 0.0584 - accuracy: 0.9981 - val_loss: 0.9701 - val_accuracy: 0.9088 - lr: 1.3569e-05\n",
      "Epoch 45/300\n",
      "50/50 [==============================] - 17s 343ms/step - loss: 0.0592 - accuracy: 0.9981 - val_loss: 0.9695 - val_accuracy: 0.9088 - lr: 1.2277e-05\n",
      "Epoch 46/300\n",
      "50/50 [==============================] - 17s 343ms/step - loss: 0.0580 - accuracy: 0.9981 - val_loss: 0.9725 - val_accuracy: 0.9085 - lr: 1.1109e-05\n",
      "Epoch 47/300\n",
      "50/50 [==============================] - 17s 342ms/step - loss: 0.0592 - accuracy: 0.9977 - val_loss: 0.9708 - val_accuracy: 0.9085 - lr: 1.0052e-05\n",
      "Epoch 48/300\n",
      "50/50 [==============================] - 17s 342ms/step - loss: 0.0579 - accuracy: 0.9982 - val_loss: 0.9655 - val_accuracy: 0.9082 - lr: 9.0953e-06\n",
      "Epoch 49/300\n",
      "50/50 [==============================] - 17s 344ms/step - loss: 0.0584 - accuracy: 0.9980 - val_loss: 0.9682 - val_accuracy: 0.9101 - lr: 8.2298e-06\n",
      "> Saving model normal_model\n",
      "WARNING:tensorflow:Detecting that an object or model or tf.train.Checkpoint is being deleted with unrestored values. See the following logs for the specific values in question. To silence these warnings, use `status.expect_partial()`. See https://www.tensorflow.org/api_docs/python/tf/train/Checkpoint#restorefor details about the status object returned by the restore function.\n"
     ]
    },
    {
     "name": "stderr",
     "output_type": "stream",
     "text": [
      "WARNING:tensorflow:Detecting that an object or model or tf.train.Checkpoint is being deleted with unrestored values. See the following logs for the specific values in question. To silence these warnings, use `status.expect_partial()`. See https://www.tensorflow.org/api_docs/python/tf/train/Checkpoint#restorefor details about the status object returned by the restore function.\n"
     ]
    },
    {
     "name": "stdout",
     "output_type": "stream",
     "text": [
      "WARNING:tensorflow:Value in checkpoint could not be found in the restored object: (root).optimizer.beta_1\n"
     ]
    },
    {
     "name": "stderr",
     "output_type": "stream",
     "text": [
      "WARNING:tensorflow:Value in checkpoint could not be found in the restored object: (root).optimizer.beta_1\n"
     ]
    },
    {
     "name": "stdout",
     "output_type": "stream",
     "text": [
      "WARNING:tensorflow:Value in checkpoint could not be found in the restored object: (root).optimizer.beta_2\n"
     ]
    },
    {
     "name": "stderr",
     "output_type": "stream",
     "text": [
      "WARNING:tensorflow:Value in checkpoint could not be found in the restored object: (root).optimizer.beta_2\n"
     ]
    },
    {
     "name": "stdout",
     "output_type": "stream",
     "text": [
      "WARNING:tensorflow:Value in checkpoint could not be found in the restored object: (root).optimizer.decay\n"
     ]
    },
    {
     "name": "stderr",
     "output_type": "stream",
     "text": [
      "WARNING:tensorflow:Value in checkpoint could not be found in the restored object: (root).optimizer.decay\n"
     ]
    },
    {
     "name": "stdout",
     "output_type": "stream",
     "text": [
      "WARNING:tensorflow:Value in checkpoint could not be found in the restored object: (root).optimizer.learning_rate\n"
     ]
    },
    {
     "name": "stderr",
     "output_type": "stream",
     "text": [
      "WARNING:tensorflow:Value in checkpoint could not be found in the restored object: (root).optimizer.learning_rate\n"
     ]
    },
    {
     "name": "stdout",
     "output_type": "stream",
     "text": [
      "WARNING:tensorflow:Value in checkpoint could not be found in the restored object: (root).optimizer.iter\n"
     ]
    },
    {
     "name": "stderr",
     "output_type": "stream",
     "text": [
      "WARNING:tensorflow:Value in checkpoint could not be found in the restored object: (root).optimizer.iter\n"
     ]
    },
    {
     "name": "stdout",
     "output_type": "stream",
     "text": [
      "WARNING:tensorflow:Value in checkpoint could not be found in the restored object: (root).keras_api.metrics.0.total\n"
     ]
    },
    {
     "name": "stderr",
     "output_type": "stream",
     "text": [
      "WARNING:tensorflow:Value in checkpoint could not be found in the restored object: (root).keras_api.metrics.0.total\n"
     ]
    },
    {
     "name": "stdout",
     "output_type": "stream",
     "text": [
      "WARNING:tensorflow:Value in checkpoint could not be found in the restored object: (root).keras_api.metrics.0.count\n"
     ]
    },
    {
     "name": "stderr",
     "output_type": "stream",
     "text": [
      "WARNING:tensorflow:Value in checkpoint could not be found in the restored object: (root).keras_api.metrics.0.count\n"
     ]
    },
    {
     "name": "stdout",
     "output_type": "stream",
     "text": [
      "WARNING:tensorflow:Value in checkpoint could not be found in the restored object: (root).keras_api.metrics.1.total\n"
     ]
    },
    {
     "name": "stderr",
     "output_type": "stream",
     "text": [
      "WARNING:tensorflow:Value in checkpoint could not be found in the restored object: (root).keras_api.metrics.1.total\n"
     ]
    },
    {
     "name": "stdout",
     "output_type": "stream",
     "text": [
      "WARNING:tensorflow:Value in checkpoint could not be found in the restored object: (root).keras_api.metrics.1.count\n"
     ]
    },
    {
     "name": "stderr",
     "output_type": "stream",
     "text": [
      "WARNING:tensorflow:Value in checkpoint could not be found in the restored object: (root).keras_api.metrics.1.count\n",
      "WARNING:absl:Found untraced functions such as _jit_compiled_convolution_op, _jit_compiled_convolution_op, _jit_compiled_convolution_op, _jit_compiled_convolution_op, _jit_compiled_convolution_op while saving (showing 5 of 53). These functions will not be directly callable after loading.\n"
     ]
    },
    {
     "name": "stdout",
     "output_type": "stream",
     "text": [
      "INFO:tensorflow:Assets written to: ./models/normal_model\\assets\n"
     ]
    },
    {
     "name": "stderr",
     "output_type": "stream",
     "text": [
      "INFO:tensorflow:Assets written to: ./models/normal_model\\assets\n",
      "WARNING:absl:Found untraced functions such as _jit_compiled_convolution_op, _jit_compiled_convolution_op, _jit_compiled_convolution_op, _jit_compiled_convolution_op, _jit_compiled_convolution_op while saving (showing 5 of 53). These functions will not be directly callable after loading.\n"
     ]
    },
    {
     "name": "stdout",
     "output_type": "stream",
     "text": [
      "INFO:tensorflow:Assets written to: ./models/normal_model/checkpoints/assets\n"
     ]
    },
    {
     "name": "stderr",
     "output_type": "stream",
     "text": [
      "INFO:tensorflow:Assets written to: ./models/normal_model/checkpoints/assets\n"
     ]
    },
    {
     "name": "stdout",
     "output_type": "stream",
     "text": [
      "> Processing gblur_model\n",
      "> Cloning and compiling model\n",
      "Model: \"gblur_model\"\n",
      "_________________________________________________________________\n",
      " Layer (type)                Output Shape              Param #   \n",
      "=================================================================\n",
      " resnet50 (Functional)       (None, None, None, 2048)  23587712  \n",
      "                                                                 \n",
      " flatten_14 (Flatten)        (None, 51200)             0         \n",
      "                                                                 \n",
      " dropout_14 (Dropout)        (None, 51200)             0         \n",
      "                                                                 \n",
      " dense_28 (Dense)            (None, 12)                614412    \n",
      "                                                                 \n",
      " dense_29 (Dense)            (None, 12)                156       \n",
      "                                                                 \n",
      "=================================================================\n",
      "Total params: 24,202,280\n",
      "Trainable params: 614,568\n",
      "Non-trainable params: 23,587,712\n",
      "_________________________________________________________________\n",
      "> Processing gnoise_model\n",
      "> Cloning and compiling model\n",
      "Model: \"gnoise_model\"\n",
      "_________________________________________________________________\n",
      " Layer (type)                Output Shape              Param #   \n",
      "=================================================================\n",
      " resnet50 (Functional)       (None, None, None, 2048)  23587712  \n",
      "                                                                 \n",
      " flatten_15 (Flatten)        (None, 51200)             0         \n",
      "                                                                 \n",
      " dropout_15 (Dropout)        (None, 51200)             0         \n",
      "                                                                 \n",
      " dense_30 (Dense)            (None, 12)                614412    \n",
      "                                                                 \n",
      " dense_31 (Dense)            (None, 12)                156       \n",
      "                                                                 \n",
      "=================================================================\n",
      "Total params: 24,202,280\n",
      "Trainable params: 614,568\n",
      "Non-trainable params: 23,587,712\n",
      "_________________________________________________________________\n",
      "> Processing mblur_model\n",
      "> Cloning and compiling model\n",
      "Model: \"mblur_model\"\n",
      "_________________________________________________________________\n",
      " Layer (type)                Output Shape              Param #   \n",
      "=================================================================\n",
      " motion_blur_3 (MotionBlur)  (None, 150, 150, 3)       0         \n",
      "                                                                 \n",
      " resnet50 (Functional)       (None, None, None, 2048)  23587712  \n",
      "                                                                 \n",
      " flatten_16 (Flatten)        (None, 51200)             0         \n",
      "                                                                 \n",
      " dropout_16 (Dropout)        (None, 51200)             0         \n",
      "                                                                 \n",
      " dense_32 (Dense)            (None, 12)                614412    \n",
      "                                                                 \n",
      " dense_33 (Dense)            (None, 12)                156       \n",
      "                                                                 \n",
      "=================================================================\n",
      "Total params: 24,202,280\n",
      "Trainable params: 614,568\n",
      "Non-trainable params: 23,587,712\n",
      "_________________________________________________________________\n",
      "> Training model\n",
      "Epoch 1/300\n",
      "50/50 [==============================] - 22s 386ms/step - loss: 7.4808 - accuracy: 0.3362 - val_loss: 4.8423 - val_accuracy: 0.5475 - lr: 0.0010\n",
      "Epoch 2/300\n",
      "50/50 [==============================] - 18s 363ms/step - loss: 1.7633 - accuracy: 0.6089 - val_loss: 3.3730 - val_accuracy: 0.6223 - lr: 9.0484e-04\n",
      "Epoch 3/300\n",
      "50/50 [==============================] - 18s 360ms/step - loss: 1.1381 - accuracy: 0.7104 - val_loss: 3.9288 - val_accuracy: 0.5828 - lr: 8.1873e-04\n",
      "Epoch 4/300\n",
      "50/50 [==============================] - 18s 361ms/step - loss: 0.9481 - accuracy: 0.7483 - val_loss: 5.0012 - val_accuracy: 0.5595 - lr: 7.4082e-04\n",
      "Epoch 5/300\n",
      "50/50 [==============================] - 18s 361ms/step - loss: 0.7816 - accuracy: 0.7888 - val_loss: 5.9601 - val_accuracy: 0.5310 - lr: 6.7032e-04\n",
      "Epoch 6/300\n",
      "50/50 [==============================] - 18s 361ms/step - loss: 0.7985 - accuracy: 0.7950 - val_loss: 7.2811 - val_accuracy: 0.5233 - lr: 6.0653e-04\n",
      "Epoch 7/300\n",
      "50/50 [==============================] - 18s 361ms/step - loss: 0.7156 - accuracy: 0.8146 - val_loss: 5.5084 - val_accuracy: 0.5750 - lr: 5.4881e-04\n",
      "Epoch 8/300\n",
      "50/50 [==============================] - 18s 362ms/step - loss: 0.5237 - accuracy: 0.8572 - val_loss: 5.0396 - val_accuracy: 0.5847 - lr: 4.9659e-04\n",
      "Epoch 9/300\n",
      "50/50 [==============================] - 18s 362ms/step - loss: 0.5080 - accuracy: 0.8580 - val_loss: 5.7197 - val_accuracy: 0.5647 - lr: 4.4933e-04\n",
      "Epoch 10/300\n",
      "50/50 [==============================] - 18s 362ms/step - loss: 0.4356 - accuracy: 0.8815 - val_loss: 5.8062 - val_accuracy: 0.5640 - lr: 4.0657e-04\n",
      "Epoch 11/300\n",
      "50/50 [==============================] - 18s 363ms/step - loss: 0.4492 - accuracy: 0.8792 - val_loss: 5.2921 - val_accuracy: 0.5915 - lr: 3.6788e-04\n",
      "Epoch 12/300\n",
      "50/50 [==============================] - 18s 363ms/step - loss: 0.3419 - accuracy: 0.9099 - val_loss: 4.9734 - val_accuracy: 0.5864 - lr: 3.3287e-04\n",
      "> Saving model mblur_model\n"
     ]
    },
    {
     "name": "stderr",
     "output_type": "stream",
     "text": [
      "WARNING:absl:Found untraced functions such as _jit_compiled_convolution_op, _jit_compiled_convolution_op, _jit_compiled_convolution_op, _jit_compiled_convolution_op, _jit_compiled_convolution_op while saving (showing 5 of 53). These functions will not be directly callable after loading.\n"
     ]
    },
    {
     "name": "stdout",
     "output_type": "stream",
     "text": [
      "INFO:tensorflow:Assets written to: ./models/mblur_model\\assets\n"
     ]
    },
    {
     "name": "stderr",
     "output_type": "stream",
     "text": [
      "INFO:tensorflow:Assets written to: ./models/mblur_model\\assets\n",
      "WARNING:absl:Found untraced functions such as _jit_compiled_convolution_op, _jit_compiled_convolution_op, _jit_compiled_convolution_op, _jit_compiled_convolution_op, _jit_compiled_convolution_op while saving (showing 5 of 53). These functions will not be directly callable after loading.\n"
     ]
    },
    {
     "name": "stdout",
     "output_type": "stream",
     "text": [
      "INFO:tensorflow:Assets written to: ./models/mblur_model/checkpoints/assets\n"
     ]
    },
    {
     "name": "stderr",
     "output_type": "stream",
     "text": [
      "INFO:tensorflow:Assets written to: ./models/mblur_model/checkpoints/assets\n"
     ]
    },
    {
     "name": "stdout",
     "output_type": "stream",
     "text": [
      "> Processing expo_model\n",
      "> Cloning and compiling model\n",
      "Model: \"expo_model\"\n",
      "_________________________________________________________________\n",
      " Layer (type)                Output Shape              Param #   \n",
      "=================================================================\n",
      " resnet50 (Functional)       (None, None, None, 2048)  23587712  \n",
      "                                                                 \n",
      " flatten_17 (Flatten)        (None, 51200)             0         \n",
      "                                                                 \n",
      " dropout_17 (Dropout)        (None, 51200)             0         \n",
      "                                                                 \n",
      " dense_34 (Dense)            (None, 12)                614412    \n",
      "                                                                 \n",
      " dense_35 (Dense)            (None, 12)                156       \n",
      "                                                                 \n",
      "=================================================================\n",
      "Total params: 24,202,280\n",
      "Trainable params: 614,568\n",
      "Non-trainable params: 23,587,712\n",
      "_________________________________________________________________\n",
      "> Processing jpgc_model\n",
      "> Cloning and compiling model\n",
      "Model: \"jpgc_model\"\n",
      "_________________________________________________________________\n",
      " Layer (type)                Output Shape              Param #   \n",
      "=================================================================\n",
      " resnet50 (Functional)       (None, None, None, 2048)  23587712  \n",
      "                                                                 \n",
      " flatten_18 (Flatten)        (None, 51200)             0         \n",
      "                                                                 \n",
      " dropout_18 (Dropout)        (None, 51200)             0         \n",
      "                                                                 \n",
      " dense_36 (Dense)            (None, 12)                614412    \n",
      "                                                                 \n",
      " dense_37 (Dense)            (None, 12)                156       \n",
      "                                                                 \n",
      "=================================================================\n",
      "Total params: 24,202,280\n",
      "Trainable params: 614,568\n",
      "Non-trainable params: 23,587,712\n",
      "_________________________________________________________________\n"
     ]
    }
   ],
   "source": [
    "for model_name in models:\n",
    "    print(f\"> Processing {model_name}\")\n",
    "    # clear model\n",
    "    model = None\n",
    "    \n",
    "    # create and compile model\n",
    "    print(\"> Cloning and compiling model\")\n",
    "    img_augmentation = models[model_name][\"augmentation\"]\n",
    "    model = create_and_compile_model(img_augmentation)\n",
    "    model._name = model_name\n",
    "    model.summary()\n",
    "   \n",
    "    # train model\n",
    "    if models[model_name][\"train\"]:\n",
    "        print(\"> Training model\")\n",
    "        history = model.fit(\n",
    "            train_ds,\n",
    "            validation_data=val_ds,\n",
    "            epochs=300,\n",
    "            batch_size=batch_size,\n",
    "            callbacks=[early_stopping, adaptive_learning],\n",
    "            verbose=1\n",
    "        )\n",
    "        models[model_name][\"history\"] = history\n",
    "        models[model_name][\"model\"] = model\n",
    "    \n",
    "    # save model\n",
    "    if models[model_name][\"save\"]:\n",
    "        print(f\"> Saving model {model_name}\")\n",
    "        model.save(f\"./models/{model_name}\")\n",
    "        model.save(f\"./models/{model_name}/checkpoints/\")"
   ]
  },
  {
   "cell_type": "code",
   "execution_count": 24,
   "metadata": {},
   "outputs": [
    {
     "data": {
      "image/png": "[encoded data removed]",
      "text/plain": [
       "<Figure size 640x480 with 1 Axes>"
      ]
     },
     "metadata": {},
     "output_type": "display_data"
    },
    {
     "data": {
      "image/png": "[encoded data removed]",
      "text/plain": [
       "<Figure size 640x480 with 1 Axes>"
      ]
     },
     "metadata": {},
     "output_type": "display_data"
    }
   ],
   "source": [
    "for model_name in models:\n",
    "    history = models[model_name][\"history\"]\n",
    "    if history != None: \n",
    "        history_df = pd.DataFrame(history.history)\n",
    "        history_df.loc[:, :].plot()"
   ]
  },
  {
   "attachments": {},
   "cell_type": "markdown",
   "metadata": {},
   "source": [
    "# Run Tests On All Models\n",
    "\n",
    "- We tested all models on all versions of the test data (normal, gaussian blur, moption blur, bad exposure, jpg compression, gausian noise)."
   ]
  },
  {
   "attachments": {},
   "cell_type": "markdown",
   "metadata": {},
   "source": [
    "## Load All Test Data Sets\n",
    "\n",
    "- First all test data (normal, gaussian blur, moption blur, bad exposure, jpg compression, gausian noise) sets have to be loaded."
   ]
  },
  {
   "cell_type": "code",
   "execution_count": 25,
   "metadata": {},
   "outputs": [],
   "source": [
    "all_test_sets = {\n",
    "    \"normal_test_data\": {\"load\": True},\n",
    "    \"gblur_test_data\": {\"load\": False},\n",
    "    \"gnoise_test_data\": {\"load\": False}, \n",
    "    \"expo_test_data\": {\"load\": False}, \n",
    "    \"mblur_test_data\": {\"load\": True},\n",
    "    \"jpgc_test_data\": {\"load\": False}\n",
    "    }"
   ]
  },
  {
   "cell_type": "code",
   "execution_count": 26,
   "metadata": {},
   "outputs": [
    {
     "name": "stdout",
     "output_type": "stream",
     "text": [
      "Found 1715 files belonging to 12 classes.\n",
      "Found 1715 files belonging to 12 classes.\n"
     ]
    },
    {
     "data": {
      "text/plain": [
       "{'normal_test_data': {'load': True,\n",
       "  'data': <BatchDataset element_spec=(TensorSpec(shape=(None, 150, 150, 3), dtype=tf.float32, name=None), TensorSpec(shape=(None,), dtype=tf.int32, name=None))>},\n",
       " 'gblur_test_data': {'load': False},\n",
       " 'gnoise_test_data': {'load': False},\n",
       " 'expo_test_data': {'load': False},\n",
       " 'mblur_test_data': {'load': True,\n",
       "  'data': <BatchDataset element_spec=(TensorSpec(shape=(None, 150, 150, 3), dtype=tf.float32, name=None), TensorSpec(shape=(None,), dtype=tf.int32, name=None))>},\n",
       " 'jpgc_test_data': {'load': False}}"
      ]
     },
     "execution_count": 26,
     "metadata": {},
     "output_type": "execute_result"
    }
   ],
   "source": [
    "for test_set in all_test_sets:\n",
    "    if all_test_sets[test_set][\"load\"]:\n",
    "        test_data_dir = f\"./data/test/{test_set}\"\n",
    "        all_test_sets[test_set][\"data\"] = tf.keras.utils.image_dataset_from_directory(\n",
    "            test_data_dir,\n",
    "            seed=123,\n",
    "            image_size=(image_height, image_width),\n",
    "            batch_size=batch_size\n",
    "            )\n",
    "all_test_sets"
   ]
  },
  {
   "attachments": {},
   "cell_type": "markdown",
   "metadata": {},
   "source": [
    "## Run Tests\n",
    "\n",
    "- Each model evaluates each dataset and the results are saved. "
   ]
  },
  {
   "cell_type": "code",
   "execution_count": 27,
   "metadata": {},
   "outputs": [
    {
     "name": "stdout",
     "output_type": "stream",
     "text": [
      "> Loading normal_model\n",
      "> Testing normal_model on normal_test_data\n",
      "7/7 [==============================] - 12s 285ms/step - loss: 1.1071 - accuracy: 0.8997\n",
      "> Testing normal_model on mblur_test_data\n",
      "7/7 [==============================] - 5s 285ms/step - loss: 3.7644 - accuracy: 0.6414\n",
      "> Loading mblur_model\n",
      "WARNING:tensorflow:Detecting that an object or model or tf.train.Checkpoint is being deleted with unrestored values. See the following logs for the specific values in question. To silence these warnings, use `status.expect_partial()`. See https://www.tensorflow.org/api_docs/python/tf/train/Checkpoint#restorefor details about the status object returned by the restore function.\n"
     ]
    },
    {
     "name": "stderr",
     "output_type": "stream",
     "text": [
      "WARNING:tensorflow:Detecting that an object or model or tf.train.Checkpoint is being deleted with unrestored values. See the following logs for the specific values in question. To silence these warnings, use `status.expect_partial()`. See https://www.tensorflow.org/api_docs/python/tf/train/Checkpoint#restorefor details about the status object returned by the restore function.\n"
     ]
    },
    {
     "name": "stdout",
     "output_type": "stream",
     "text": [
      "WARNING:tensorflow:Value in checkpoint could not be found in the restored object: (root).optimizer.beta_1\n"
     ]
    },
    {
     "name": "stderr",
     "output_type": "stream",
     "text": [
      "WARNING:tensorflow:Value in checkpoint could not be found in the restored object: (root).optimizer.beta_1\n"
     ]
    },
    {
     "name": "stdout",
     "output_type": "stream",
     "text": [
      "WARNING:tensorflow:Value in checkpoint could not be found in the restored object: (root).optimizer.beta_2\n"
     ]
    },
    {
     "name": "stderr",
     "output_type": "stream",
     "text": [
      "WARNING:tensorflow:Value in checkpoint could not be found in the restored object: (root).optimizer.beta_2\n"
     ]
    },
    {
     "name": "stdout",
     "output_type": "stream",
     "text": [
      "WARNING:tensorflow:Value in checkpoint could not be found in the restored object: (root).optimizer.decay\n"
     ]
    },
    {
     "name": "stderr",
     "output_type": "stream",
     "text": [
      "WARNING:tensorflow:Value in checkpoint could not be found in the restored object: (root).optimizer.decay\n"
     ]
    },
    {
     "name": "stdout",
     "output_type": "stream",
     "text": [
      "WARNING:tensorflow:Value in checkpoint could not be found in the restored object: (root).optimizer.learning_rate\n"
     ]
    },
    {
     "name": "stderr",
     "output_type": "stream",
     "text": [
      "WARNING:tensorflow:Value in checkpoint could not be found in the restored object: (root).optimizer.learning_rate\n"
     ]
    },
    {
     "name": "stdout",
     "output_type": "stream",
     "text": [
      "WARNING:tensorflow:Value in checkpoint could not be found in the restored object: (root).optimizer.iter\n"
     ]
    },
    {
     "name": "stderr",
     "output_type": "stream",
     "text": [
      "WARNING:tensorflow:Value in checkpoint could not be found in the restored object: (root).optimizer.iter\n"
     ]
    },
    {
     "name": "stdout",
     "output_type": "stream",
     "text": [
      "WARNING:tensorflow:Value in checkpoint could not be found in the restored object: (root).keras_api.metrics.0.total\n"
     ]
    },
    {
     "name": "stderr",
     "output_type": "stream",
     "text": [
      "WARNING:tensorflow:Value in checkpoint could not be found in the restored object: (root).keras_api.metrics.0.total\n"
     ]
    },
    {
     "name": "stdout",
     "output_type": "stream",
     "text": [
      "WARNING:tensorflow:Value in checkpoint could not be found in the restored object: (root).keras_api.metrics.0.count\n"
     ]
    },
    {
     "name": "stderr",
     "output_type": "stream",
     "text": [
      "WARNING:tensorflow:Value in checkpoint could not be found in the restored object: (root).keras_api.metrics.0.count\n"
     ]
    },
    {
     "name": "stdout",
     "output_type": "stream",
     "text": [
      "WARNING:tensorflow:Value in checkpoint could not be found in the restored object: (root).keras_api.metrics.1.total\n"
     ]
    },
    {
     "name": "stderr",
     "output_type": "stream",
     "text": [
      "WARNING:tensorflow:Value in checkpoint could not be found in the restored object: (root).keras_api.metrics.1.total\n"
     ]
    },
    {
     "name": "stdout",
     "output_type": "stream",
     "text": [
      "WARNING:tensorflow:Value in checkpoint could not be found in the restored object: (root).keras_api.metrics.1.count\n"
     ]
    },
    {
     "name": "stderr",
     "output_type": "stream",
     "text": [
      "WARNING:tensorflow:Value in checkpoint could not be found in the restored object: (root).keras_api.metrics.1.count\n"
     ]
    },
    {
     "name": "stdout",
     "output_type": "stream",
     "text": [
      "> Testing mblur_model on normal_test_data\n",
      "7/7 [==============================] - 12s 287ms/step - loss: 3.9555 - accuracy: 0.5802\n",
      "> Testing mblur_model on mblur_test_data\n",
      "7/7 [==============================] - 5s 284ms/step - loss: 2.4974 - accuracy: 0.6385\n"
     ]
    }
   ],
   "source": [
    "# Load Model\n",
    "for model_name in models:\n",
    "    if models[model_name][\"test\"]:\n",
    "         # clear model\n",
    "        model = None\n",
    "        print(f\"> Loading {model_name}\")\n",
    "        model_dir = f\"./models/{model_name}\"\n",
    "        model = tf.keras.models.load_model(model_dir)\n",
    "        model.load_weights(f\"{model_dir}/checkpoints/\")\n",
    "\n",
    "        # Run Tests     \n",
    "        models[model_name][\"test_results\"] = {}\n",
    "        for test_set in all_test_sets:\n",
    "            if all_test_sets[test_set][\"load\"]:\n",
    "                print(f\"> Testing {model_name} on {test_set}\")\n",
    "                models[model_name][\"test_results\"][test_set] = model.evaluate(all_test_sets[test_set][\"data\"])"
   ]
  },
  {
   "cell_type": "code",
   "execution_count": 37,
   "metadata": {},
   "outputs": [
    {
     "name": "stdout",
     "output_type": "stream",
     "text": [
      "{'normal_test_data': [1.1071345806121826, 0.8997083902359009], 'mblur_test_data': [3.7643988132476807, 0.6413993835449219]}\n"
     ]
    },
    {
     "ename": "KeyError",
     "evalue": "'test_results'",
     "output_type": "error",
     "traceback": [
      "\u001b[1;31m---------------------------------------------------------------------------\u001b[0m",
      "\u001b[1;31mKeyError\u001b[0m                                  Traceback (most recent call last)",
      "\u001b[1;32m~\\AppData\\Local\\Temp\\ipykernel_26276\\2756401466.py\u001b[0m in \u001b[0;36m<module>\u001b[1;34m\u001b[0m\n\u001b[0;32m      1\u001b[0m \u001b[1;32mfor\u001b[0m \u001b[0mmodel_name\u001b[0m \u001b[1;32min\u001b[0m \u001b[0mmodels\u001b[0m\u001b[1;33m:\u001b[0m\u001b[1;33m\u001b[0m\u001b[1;33m\u001b[0m\u001b[0m\n\u001b[1;32m----> 2\u001b[1;33m     \u001b[0mtest_results\u001b[0m \u001b[1;33m=\u001b[0m \u001b[0mmodels\u001b[0m\u001b[1;33m[\u001b[0m\u001b[0mmodel_name\u001b[0m\u001b[1;33m]\u001b[0m\u001b[1;33m[\u001b[0m\u001b[1;34m\"test_results\"\u001b[0m\u001b[1;33m]\u001b[0m\u001b[1;33m\u001b[0m\u001b[1;33m\u001b[0m\u001b[0m\n\u001b[0m\u001b[0;32m      3\u001b[0m     \u001b[0mprint\u001b[0m\u001b[1;33m(\u001b[0m\u001b[0mtest_results\u001b[0m\u001b[1;33m)\u001b[0m\u001b[1;33m\u001b[0m\u001b[1;33m\u001b[0m\u001b[0m\n\u001b[0;32m      4\u001b[0m \u001b[1;33m\u001b[0m\u001b[0m\n\u001b[0;32m      5\u001b[0m     \u001b[1;32mif\u001b[0m \u001b[0mtest_results\u001b[0m \u001b[1;33m!=\u001b[0m \u001b[1;32mNone\u001b[0m\u001b[1;33m:\u001b[0m\u001b[1;33m\u001b[0m\u001b[1;33m\u001b[0m\u001b[0m\n",
      "\u001b[1;31mKeyError\u001b[0m: 'test_results'"
     ]
    },
    {
     "data": {
      "image/png": "[encoded data removed]",
      "text/plain": [
       "<Figure size 640x480 with 1 Axes>"
      ]
     },
     "metadata": {},
     "output_type": "display_data"
    }
   ],
   "source": [
    "for model_name in models:\n",
    "    test_results = models[model_name][\"test_results\"]\n",
    "    print(test_results)\n",
    "    \n",
    "    if test_results != None: \n",
    "        result_df = pd.DataFrame(test_results)\n",
    "        result_df.loc[:,:].plot()"
   ]
  }
 ],
 "metadata": {
  "kernelspec": {
   "display_name": "base",
   "language": "python",
   "name": "python3"
  },
  "language_info": {
   "codemirror_mode": {
    "name": "ipython",
    "version": 3
   },
   "file_extension": ".py",
   "mimetype": "text/x-python",
   "name": "python",
   "nbconvert_exporter": "python",
   "pygments_lexer": "ipython3",
   "version": "3.9.13"
  },
  "orig_nbformat": 4,
  "vscode": {
   "interpreter": {
    "hash": "2817e5a963fe39eff03cb95cdc8f572ee2f2e1817bf2ac4532382cdfef8588ff"
   }
  }
 },
 "nbformat": 4,
 "nbformat_minor": 2
}
